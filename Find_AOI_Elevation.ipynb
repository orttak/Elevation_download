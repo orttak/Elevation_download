{
 "cells": [
  {
   "cell_type": "markdown",
   "metadata": {},
   "source": [
    "### Download Elevation File According to Area Of Interest\n",
    "\n",
    "With this code, you can download elevation data(90m) of your area of interest\n",
    "from 'https://www.earthenv.org/DEM' "
   ]
  },
  {
   "cell_type": "code",
   "execution_count": 2,
   "metadata": {},
   "outputs": [],
   "source": [
    "import geopandas as gpd"
   ]
  },
  {
   "cell_type": "code",
   "execution_count": 96,
   "metadata": {},
   "outputs": [],
   "source": [
    "# 'elevation_tif' .shp data is tile index data that is produced by Geoserver\n",
    "# To create this data, I download all elevation data from website and\n",
    "# if data includes value bigger than 0, I get that elevation data"
   ]
  },
  {
   "cell_type": "code",
   "execution_count": 3,
   "metadata": {},
   "outputs": [],
   "source": [
    "world_dem_index=gpd.read_file('./shp/elevation_tif.shp')"
   ]
  },
  {
   "cell_type": "code",
   "execution_count": 62,
   "metadata": {},
   "outputs": [
    {
     "data": {
      "text/plain": [
       "{'init': 'epsg:4326'}"
      ]
     },
     "execution_count": 62,
     "metadata": {},
     "output_type": "execute_result"
    }
   ],
   "source": [
    "world_dem_index.crs"
   ]
  },
  {
   "cell_type": "markdown",
   "metadata": {},
   "source": [
    "### Define Area of Interest\n",
    "\n",
    "There are two ways define your AOI.\n",
    "First, you can read your .shp or json file with geopandas.read_file method\n",
    "Second, go to 'http://geojson.io/ ' and draw your aoi. Then, copy the text in left and\n",
    "define as you see in below. To read with geopandas, you should us json.dumps function.\n",
    "\n",
    "data={\n",
    "  \"type\": \"FeatureCollection\",\n",
    "  \"features\": [\n",
    "    {\n",
    "      \"type\": \"Feature\",\n",
    "      \"properties\": {},\n",
    "      \"geometry\": {\n",
    "        \"type\": \"Polygon\",\n",
    "        \"coordinates\": [\n",
    "          [\n",
    "            [\n",
    "              -9.16259765625,\n",
    "              41.9921602333763\n",
    "            ],\n",
    "            [\n",
    "              -1.0546875,\n",
    "              41.9921602333763\n",
    "            ],\n",
    "            [\n",
    "              -1.0546875,\n",
    "              43.866218006556394\n",
    "            ],\n",
    "            [\n",
    "              -9.16259765625,\n",
    "              43.866218006556394\n",
    "            ],\n",
    "            [\n",
    "              -9.16259765625,\n",
    "              41.9921602333763\n",
    "            ]\n",
    "          ]\n",
    "        ]\n",
    "      }\n",
    "    }\n",
    "  ]\n",
    "}\n",
    "\n",
    "datajson=json.dumps(data) <br/> AOI=gpd.read_file(datajson)\n"
   ]
  },
  {
   "cell_type": "code",
   "execution_count": null,
   "metadata": {},
   "outputs": [],
   "source": [
    "datajson=json.dumps(data)\n",
    "west=gpd.read_file(datajson)\n"
   ]
  },
  {
   "cell_type": "code",
   "execution_count": 10,
   "metadata": {},
   "outputs": [],
   "source": [
    "aoi=gpd.read_file('./shp/aoi.json')"
   ]
  },
  {
   "cell_type": "code",
   "execution_count": 63,
   "metadata": {},
   "outputs": [
    {
     "data": {
      "text/plain": [
       "{'init': 'epsg:4326'}"
      ]
     },
     "execution_count": 63,
     "metadata": {},
     "output_type": "execute_result"
    }
   ],
   "source": [
    "aoi.crs"
   ]
  },
  {
   "cell_type": "code",
   "execution_count": 97,
   "metadata": {},
   "outputs": [],
   "source": [
    "# Intersect AOI and World index file"
   ]
  },
  {
   "cell_type": "code",
   "execution_count": 82,
   "metadata": {
    "collapsed": true,
    "jupyter": {
     "outputs_hidden": true
    }
   },
   "outputs": [
    {
     "data": {
      "text/html": [
       "<div>\n",
       "<style scoped>\n",
       "    .dataframe tbody tr th:only-of-type {\n",
       "        vertical-align: middle;\n",
       "    }\n",
       "\n",
       "    .dataframe tbody tr th {\n",
       "        vertical-align: top;\n",
       "    }\n",
       "\n",
       "    .dataframe thead th {\n",
       "        text-align: right;\n",
       "    }\n",
       "</style>\n",
       "<table border=\"1\" class=\"dataframe\">\n",
       "  <thead>\n",
       "    <tr style=\"text-align: right;\">\n",
       "      <th></th>\n",
       "      <th>location</th>\n",
       "      <th>geometry</th>\n",
       "    </tr>\n",
       "  </thead>\n",
       "  <tbody>\n",
       "    <tr>\n",
       "      <td>0</td>\n",
       "      <td>EarthEnv-DEM90_N40W005.tif</td>\n",
       "      <td>POLYGON ((-4.999999999999996 41.9921602333763,...</td>\n",
       "    </tr>\n",
       "    <tr>\n",
       "      <td>1</td>\n",
       "      <td>EarthEnv-DEM90_N40W010.tif</td>\n",
       "      <td>POLYGON ((-5.000000000001995 43.86621800655639...</td>\n",
       "    </tr>\n",
       "  </tbody>\n",
       "</table>\n",
       "</div>"
      ],
      "text/plain": [
       "                     location  \\\n",
       "0  EarthEnv-DEM90_N40W005.tif   \n",
       "1  EarthEnv-DEM90_N40W010.tif   \n",
       "\n",
       "                                            geometry  \n",
       "0  POLYGON ((-4.999999999999996 41.9921602333763,...  \n",
       "1  POLYGON ((-5.000000000001995 43.86621800655639...  "
      ]
     },
     "execution_count": 82,
     "metadata": {},
     "output_type": "execute_result"
    }
   ],
   "source": [
    "dem_intersect = gpd.overlay(world_dem_index, aoi, how='intersection')\n",
    "dem_intersect[0:2]"
   ]
  },
  {
   "cell_type": "code",
   "execution_count": 113,
   "metadata": {},
   "outputs": [
    {
     "data": {
      "text/plain": [
       "2"
      ]
     },
     "execution_count": 113,
     "metadata": {},
     "output_type": "execute_result"
    }
   ],
   "source": [
    "len(dem_intersect)"
   ]
  },
  {
   "cell_type": "code",
   "execution_count": null,
   "metadata": {},
   "outputs": [],
   "source": [
    "# Url should be like\n",
    "#http://mirrors.iplantcollaborative.org/earthenv_dem_data/EarthEnv-DEM90/EarthEnv-DEM90_N25E010.tar.gz\"\n",
    "#We will create new url list. We just manipulate the end of the url."
   ]
  },
  {
   "cell_type": "code",
   "execution_count": 111,
   "metadata": {},
   "outputs": [],
   "source": [
    "main_url='http://mirrors.iplantcollaborative.org/earthenv_dem_data/EarthEnv-DEM90/'\n",
    "suffix='.tar.gz'"
   ]
  },
  {
   "cell_type": "code",
   "execution_count": 116,
   "metadata": {},
   "outputs": [
    {
     "data": {
      "text/plain": [
       "True"
      ]
     },
     "execution_count": 116,
     "metadata": {},
     "output_type": "execute_result"
    }
   ],
   "source": [
    "img_urls_list=[]\n",
    "for index,img in dem_intersect.iterrows():\n",
    "    url=main_url+img['location'].split('.')[0]+suffix\n",
    "    img_urls_list.append(url)\n",
    "# comparing the length of the lists\n",
    "len(img_urls_list)==len(dem_intersect)"
   ]
  },
  {
   "cell_type": "code",
   "execution_count": 133,
   "metadata": {},
   "outputs": [],
   "source": [
    "import requests\n",
    "import os \n",
    "import shutil"
   ]
  },
  {
   "cell_type": "code",
   "execution_count": 130,
   "metadata": {},
   "outputs": [],
   "source": [
    "# Be aware end of the file path\n",
    "# You should define end of the folder name with '/'\n",
    "# Before start download, you can write training for loop to check the name of the files"
   ]
  },
  {
   "cell_type": "code",
   "execution_count": 136,
   "metadata": {},
   "outputs": [],
   "source": [
    "# main folder of your download\n",
    "target_folder='./data/'\n",
    "if not os.path.isdir(target_folder):\n",
    "    os.mkdir(target_folder)\n",
    "# .tar.gz file location\n",
    "zip_file_folder=target_folder+'elevation_zip/'\n",
    "if not os.path.isdir(zip_file_folder):\n",
    "    os.mkdir(zip_file_folder)\n",
    "# Unzip file location\n",
    "elevation_files_folder=target_folder+'elevation_files/'\n",
    "if not os.path.isdir(elevation_files_folder):\n",
    "    os.mkdir(elevation_files_folder)\n"
   ]
  },
  {
   "cell_type": "code",
   "execution_count": 138,
   "metadata": {},
   "outputs": [
    {
     "name": "stdout",
     "output_type": "stream",
     "text": [
      "CPU times: user 1.06 s, sys: 390 ms, total: 1.45 s\n",
      "Wall time: 17 s\n"
     ]
    }
   ],
   "source": [
    "%%time\n",
    "for url in img_urls_list:    \n",
    "    img_name=url.split('/')[-1]\n",
    "    img_path=zip_file_folder+img_name\n",
    "    #print(img_path)\n",
    "    \n",
    "    response = requests.get(url, stream=True)\n",
    "    if response.status_code == 200:\n",
    "        with open(img_path, 'wb') as f:\n",
    "            f.write(response.raw.read())\n",
    "\n",
    "    #unzip the file\n",
    "    file_name=url.split('/')[-1].split('.')[0]\n",
    "    file_path=elevation_files_folder+file_name    \n",
    "    #print(file_path)\n",
    "    shutil.unpack_archive(img_path,file_path,'gztar')\n",
    "    #print('-----------')\n",
    "    "
   ]
  },
  {
   "cell_type": "code",
   "execution_count": null,
   "metadata": {},
   "outputs": [],
   "source": []
  },
  {
   "cell_type": "code",
   "execution_count": null,
   "metadata": {},
   "outputs": [],
   "source": []
  },
  {
   "cell_type": "code",
   "execution_count": null,
   "metadata": {},
   "outputs": [],
   "source": []
  },
  {
   "cell_type": "code",
   "execution_count": null,
   "metadata": {},
   "outputs": [],
   "source": []
  },
  {
   "cell_type": "code",
   "execution_count": null,
   "metadata": {},
   "outputs": [],
   "source": []
  },
  {
   "cell_type": "code",
   "execution_count": null,
   "metadata": {},
   "outputs": [],
   "source": []
  },
  {
   "cell_type": "code",
   "execution_count": null,
   "metadata": {},
   "outputs": [],
   "source": []
  },
  {
   "cell_type": "code",
   "execution_count": null,
   "metadata": {},
   "outputs": [],
   "source": []
  },
  {
   "cell_type": "code",
   "execution_count": null,
   "metadata": {},
   "outputs": [],
   "source": []
  }
 ],
 "metadata": {
  "kernelspec": {
   "display_name": "Python 3",
   "language": "python",
   "name": "python3"
  },
  "language_info": {
   "codemirror_mode": {
    "name": "ipython",
    "version": 3
   },
   "file_extension": ".py",
   "mimetype": "text/x-python",
   "name": "python",
   "nbconvert_exporter": "python",
   "pygments_lexer": "ipython3",
   "version": "3.6.8"
  }
 },
 "nbformat": 4,
 "nbformat_minor": 4
}
