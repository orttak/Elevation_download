{
 "cells": [
  {
   "cell_type": "markdown",
   "metadata": {},
   "source": [
    "### Elevation Download\n",
    "\n",
    "With this notebook, you can download elevation data for whole world. Also, you can define elevation data if data includes value bigger than 0. With this method you can eliminate data on the sea(ocean)."
   ]
  },
  {
   "cell_type": "code",
   "execution_count": null,
   "metadata": {},
   "outputs": [],
   "source": [
    "from selenium import webdriver\n",
    "from selenium.webdriver.firefox.options import Options\n",
    "# If you are running Firefox on a system with no display, make sure you use headless mode.\n",
    "# We use Selenium to export information from map\n",
    "options = Options()\n",
    "options.headless = True\n",
    "driver = webdriver.Firefox(options=options)\n",
    "driver.get('https://www.earthenv.org/DEM')"
   ]
  },
  {
   "cell_type": "code",
   "execution_count": null,
   "metadata": {},
   "outputs": [],
   "source": [
    "from bs4 import BeautifulSoup"
   ]
  },
  {
   "cell_type": "code",
   "execution_count": null,
   "metadata": {},
   "outputs": [],
   "source": [
    "dem_page=BeautifulSoup(driver.page_source,'html.parser')"
   ]
  },
  {
   "cell_type": "code",
   "execution_count": null,
   "metadata": {},
   "outputs": [],
   "source": [
    "maps_element=dem_page.map"
   ]
  },
  {
   "cell_type": "code",
   "execution_count": 1,
   "metadata": {},
   "outputs": [],
   "source": [
    "#Convert the Bs4 element to list"
   ]
  },
  {
   "cell_type": "code",
   "execution_count": null,
   "metadata": {},
   "outputs": [],
   "source": [
    "for index,img in enumerate(maps_element,0):\n",
    "    imgs.append(img)\n",
    "del imgs[0:2]\n",
    "del imgs[-2:]\n",
    "# whole world\n",
    "len(imgs)"
   ]
  },
  {
   "cell_type": "code",
   "execution_count": 7,
   "metadata": {},
   "outputs": [],
   "source": [
    "# main folder of your download\n",
    "target_folder='./data/'\n",
    "if not os.path.isdir(target_folder):\n",
    "    os.mkdir(target_folder)\n",
    "# .tar.gz file location\n",
    "zip_file_folder=target_folder+'elevation_zip/'\n",
    "if not os.path.isdir(zip_file_folder):\n",
    "    os.mkdir(zip_file_folder)\n",
    "# Unzip file location\n",
    "elevation_files_folder=target_folder+'elevation_files/'\n",
    "if not os.path.isdir(elevation_files_folder):\n",
    "    os.mkdir(elevation_files_folder)\n"
   ]
  },
  {
   "cell_type": "code",
   "execution_count": null,
   "metadata": {},
   "outputs": [],
   "source": [
    "for img in imgs:\n",
    "    url=img['href']\n",
    "    img_name=img['href'].split('/')[-1]\n",
    "    img_path=zip_file_folder+img_name\n",
    "    #print(img_path)\n",
    "    \n",
    "    response = requests.get(url, stream=True)\n",
    "    if response.status_code == 200:\n",
    "        with open(img_path, 'wb') as f:\n",
    "            f.write(response.raw.read())\n",
    "    \n",
    "    #unzip the file\n",
    "    file_name=img['href'].split('/')[-1].split('.')[0]\n",
    "    file_path=elevation_files_folder+file_name\n",
    "    #print(file_path)\n",
    "    shutil.unpack_archive(img_path,file_path,'gztar')\n",
    "    "
   ]
  },
  {
   "cell_type": "markdown",
   "metadata": {},
   "source": [
    "#### If all value in elevation file(.bil) bigger than 0, we define and translate to 'tif' format\n"
   ]
  },
  {
   "cell_type": "code",
   "execution_count": 1,
   "metadata": {},
   "outputs": [],
   "source": [
    "import glob\n",
    "import os\n",
    "from osgeo import gdal,ogr,osr\n",
    "import numpy as np"
   ]
  },
  {
   "cell_type": "code",
   "execution_count": 4,
   "metadata": {},
   "outputs": [],
   "source": [
    "imgs_folder='./data/elevation_files/*/'\n",
    "search_criteria = \"*.bil\"\n",
    "glob_criteria = os.path.join(imgs_folder, search_criteria)\n",
    "paths = glob.glob(glob_criteria)"
   ]
  },
  {
   "cell_type": "code",
   "execution_count": 6,
   "metadata": {},
   "outputs": [],
   "source": [
    "target_folder='./data/'\n",
    "output_folder=target_folder+'elevation_tif/'\n",
    "if not os.path.isdir(output_folder):\n",
    "    os.mkdir(output_folder)"
   ]
  },
  {
   "cell_type": "code",
   "execution_count": 7,
   "metadata": {},
   "outputs": [
    {
     "name": "stdout",
     "output_type": "stream",
     "text": [
      "./data/elevation_tif/EarthEnv-DEM90_N40W005.tif\n",
      "./data/elevation_tif/EarthEnv-DEM90_N40W010.tif\n",
      "CPU times: user 1.17 s, sys: 133 ms, total: 1.31 s\n",
      "Wall time: 1.3 s\n"
     ]
    }
   ],
   "source": [
    "%%time\n",
    "for i in paths:\n",
    "    img=gdal.Open(i)\n",
    "    img_array=img.ReadAsArray()\n",
    "    if np.all(img_array==0):\n",
    "        continue\n",
    "    else:\n",
    "        tif_name=os.path.basename(i).split('.')[0]\n",
    "        output_path=output_folder+tif_name+'.tif'\n",
    "        #print(output_path)\n",
    "        \n",
    "        \n",
    "        s_srs = img.GetProjectionRef()\n",
    "        osng = osr.SpatialReference ()\n",
    "        osng.SetFromUserInput ( s_srs )\n",
    "        geo_t = img.GetGeoTransform ()\n",
    "        x_size = img.RasterXSize # Raster xsize\n",
    "        y_size = img.RasterYSize # Raster ysize\n",
    "        \n",
    "        #create gdal memory file to convert image to EPSG:4326        \n",
    "        mem_drv = gdal.GetDriverByName( 'MEM' )\n",
    "        dest = mem_drv.Create('', x_size,y_size, 1, gdal.GDT_Int16)\n",
    "        dest.SetGeoTransform( geo_t )\n",
    "        dest.SetProjection ( osng.ExportToWkt() )\n",
    "        dest.GetRasterBand(1).SetNoDataValue(-32768)\n",
    "        dest.GetRasterBand(1).WriteArray(img_array)\n",
    "        \n",
    "        gdal.Warp(output_path, dest, format = 'GTiff', dstSRS = 'EPSG:4326 ')   \n",
    "        dst_ds=None\n",
    "        mem_drv=None\n",
    "        \n",
    "        \n",
    "        "
   ]
  },
  {
   "cell_type": "code",
   "execution_count": null,
   "metadata": {},
   "outputs": [],
   "source": []
  }
 ],
 "metadata": {
  "kernelspec": {
   "display_name": "Python 3",
   "language": "python",
   "name": "python3"
  },
  "language_info": {
   "codemirror_mode": {
    "name": "ipython",
    "version": 3
   },
   "file_extension": ".py",
   "mimetype": "text/x-python",
   "name": "python",
   "nbconvert_exporter": "python",
   "pygments_lexer": "ipython3",
   "version": "3.6.8"
  }
 },
 "nbformat": 4,
 "nbformat_minor": 4
}
