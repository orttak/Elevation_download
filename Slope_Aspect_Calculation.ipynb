{
 "cells": [
  {
   "cell_type": "markdown",
   "metadata": {},
   "source": [
    "### Calculate Slope and Aspect\n",
    "\n",
    "With this example, you can calculate slope and aspect data from elevation data. Before start, we create mosaic file for calculation part. If your AOI is too big and you don't have enough disc space, You should put all steps in one loop and end of the calculation you can delete mosaic file."
   ]
  },
  {
   "cell_type": "code",
   "execution_count": 17,
   "metadata": {},
   "outputs": [],
   "source": [
    "from osgeo import gdal,ogr\n",
    "import pandas as pd\n",
    "import geopandas\n",
    "import os"
   ]
  },
  {
   "cell_type": "code",
   "execution_count": 18,
   "metadata": {},
   "outputs": [],
   "source": [
    "def ListofExtensionAndName(directory,extension):\n",
    "     \n",
    "        if len(directory) != None:\n",
    "            import os\n",
    "            FilesList = []\n",
    "            FileName=[]\n",
    "            for root, subdirectory, files in os.walk(directory):\n",
    "                for file in files:\n",
    "                    if file.endswith(extension):\n",
    "                        FilesList.append(os.path.join(root,file))\n",
    "                        base=os.path.basename(file)\n",
    "                        FileName.append(os.path.splitext(base)[0])\n",
    "\n",
    "            return sorted(FilesList),sorted(FileName)\n",
    "        else:\n",
    "            print(\"no\"+ extension +\"file for this directory\")"
   ]
  },
  {
   "cell_type": "code",
   "execution_count": 19,
   "metadata": {},
   "outputs": [],
   "source": [
    "def ImageBoundry(FilePath):\n",
    "        #for aspect data\n",
    "        imgname=FilePath\n",
    "\n",
    "        from osgeo import gdal,ogr\n",
    "        ds = gdal.Open(FilePath)\n",
    "        gt = ds.GetGeoTransform()  # captures origin and pixel size\n",
    "\n",
    "        ULC = gdal.ApplyGeoTransform(gt, 0, 0) #Upper Left Corner\n",
    "        URC = gdal.ApplyGeoTransform(gt, ds.RasterXSize, 0) #Upper Right Corner\n",
    "        LLC = gdal.ApplyGeoTransform(gt, 0, ds.RasterYSize) #Lower Left Corner\n",
    "        LRC = gdal.ApplyGeoTransform(gt, ds.RasterXSize, ds.RasterYSize) #Lower Right Corner\n",
    "                   \n",
    "        ring = ogr.Geometry(ogr.wkbLinearRing)\n",
    "        ring.AddPoint_2D(ULC[0], ULC[1])\n",
    "        ring.AddPoint_2D(URC[0], URC[1])\n",
    "        ring.AddPoint_2D(LRC[0], LRC[1])\n",
    "        ring.AddPoint_2D(LLC[0], LLC[1])\n",
    "        ring.AddPoint_2D(ULC[0], ULC[1]) \n",
    "        poly=ogr.Geometry(ogr.wkbPolygon)\n",
    "        poly.AddGeometry(ring)\n",
    "        poly.ExportToJson\n",
    "        return poly.ExportToJson() ,imgname\n",
    "    \n"
   ]
  },
  {
   "cell_type": "code",
   "execution_count": 20,
   "metadata": {},
   "outputs": [],
   "source": [
    "# Target  elevation data. We get path and name of the files\n",
    "ImageList=list(ListofExtensionAndName(r\"./data//elevation_tif/\",\".tif\"))"
   ]
  },
  {
   "cell_type": "code",
   "execution_count": 23,
   "metadata": {},
   "outputs": [],
   "source": [
    "# With ImageBoundry function, we create geopandas dataFrame and put the extend of tif image\n",
    "ImgboundaryList=[]\n",
    "gdf=geopandas.geodataframe.GeoDataFrame()\n",
    "for i in ImageList[0]:\n",
    "    imgboundary=ImageBoundry(i)\n",
    "    gdf_new = geopandas.read_file(imgboundary[0])\n",
    "    ImgboundaryList.append(i)\n",
    "    gdf=gdf.append(gdf_new)\n"
   ]
  },
  {
   "cell_type": "code",
   "execution_count": 24,
   "metadata": {},
   "outputs": [],
   "source": [
    "# main folder of your download\n",
    "target_folder='./data/'\n",
    "elevation_mosaic=target_folder+'elevation_mosaic/'\n",
    "if not os.path.isdir(elevation_mosaic):\n",
    "    os.mkdir(elevation_mosaic)"
   ]
  },
  {
   "cell_type": "code",
   "execution_count": 25,
   "metadata": {},
   "outputs": [],
   "source": [
    "Mosaiclist=[]\n",
    "imglist=[]\n"
   ]
  },
  {
   "cell_type": "code",
   "execution_count": 27,
   "metadata": {},
   "outputs": [],
   "source": [
    "for i in ImageList[0]:\n",
    "    #TARGET IMAGE INDEX\n",
    "    imgindex=ImageList[0].index(i)\n",
    "    # Define output mosaic name\n",
    "    mosaic_name=ImageList[1][imgindex]\n",
    "    \n",
    "    # get target image boundry\n",
    "    imgboundary2=ImageBoundry(i)\n",
    "    gdf_mosaic = geopandas.read_file(imgboundary2[0])\n",
    "    # we get geometry feature for calculating distance\n",
    "    gdfmosaic_geo=gdf_mosaic.geometry\n",
    "    # we define the neighbours\n",
    "    dist=gdfmosaic_geo.distance(gdf.geometry)\n",
    "    for index,j in enumerate(dist,0):\n",
    "        # if distance smaller than 0.5, image is neigbour of the target image\n",
    "        if j <0.5:\n",
    "            imglist.append(ImgboundaryList[index])\n",
    "            \n",
    "    # we save the mosaic lists. It could be useful       \n",
    "    Mosaiclist.append(imglist)\n",
    "    mosaicpath=elevation_mosaic+mosaic_name+'.tif'\n",
    "    gdal.Warp(mosaicpath,imglist)\n",
    "    imglist=[]\n",
    "     "
   ]
  },
  {
   "cell_type": "code",
   "execution_count": null,
   "metadata": {},
   "outputs": [],
   "source": []
  },
  {
   "cell_type": "code",
   "execution_count": null,
   "metadata": {},
   "outputs": [],
   "source": []
  },
  {
   "cell_type": "code",
   "execution_count": 28,
   "metadata": {},
   "outputs": [],
   "source": [
    "Input=r\"../geoserver_data/2020_Elevation_Slope_Aspect/elevation_mosaic\"\n",
    "\n",
    "OutputUTM=r\"../geoserver_data/2020_Elevation_Slope_Aspect/elevation_utm_mosaic\"\n",
    "\n",
    "Input_MozaikList=ListofExtensionAndName(Input,\"tif\")\n"
   ]
  },
  {
   "cell_type": "code",
   "execution_count": 31,
   "metadata": {},
   "outputs": [],
   "source": [
    "# main folder of your download\n",
    "target_folder='./data/'\n",
    "elevation_mosaic=target_folder+'elevation_mosaic/'\n",
    "# Elevation files (UTM) location\n",
    "elevation_utm_mosaic=target_folder+'elevation_utm_mosaic/'\n",
    "if not os.path.isdir(elevation_utm_mosaic):\n",
    "    os.mkdir(elevation_utm_mosaic)\n",
    "Input_MozaikList=ListofExtensionAndName(elevation_mosaic,\"tif\")\n",
    "sh_file='./mosaic_to_utm.sh'"
   ]
  },
  {
   "cell_type": "markdown",
   "metadata": {},
   "source": [
    "### Convert .tif file to EPSG:3857"
   ]
  },
  {
   "cell_type": "code",
   "execution_count": 32,
   "metadata": {},
   "outputs": [],
   "source": [
    "for index,i in enumerate(Input_MozaikList[0],0):\n",
    "\n",
    "    ImgOutPath=elevation_utm_mosaic+\"/\"+Input_MozaikList[1][index]+'.tif'\n",
    "    dest=i\n",
    "    #print(ImgOutPath)\n",
    "    gdal.Warp(ImgOutPath, dest, format = 'GTiff', dstSRS = 'EPSG:3857')\n",
    "    \n",
    "    "
   ]
  },
  {
   "cell_type": "markdown",
   "metadata": {},
   "source": [
    "#### Below and above codes are doing same job.\n"
   ]
  },
  {
   "cell_type": "code",
   "execution_count": 16,
   "metadata": {},
   "outputs": [],
   "source": [
    "# Preparing linux cmd code to converting tif files\n",
    "for index,i in enumerate(Input_MozaikList[0],0):\n",
    "    outputimg=elevation_utm_mosaic+\"/\"+Input_MozaikList[1][index]+\".tif\"\n",
    "    #print(outputimg)\n",
    "    translate_code= \"gdalwarp -s_srs EPSG:4326 -t_srs EPSG:3857 -r near -of GTiff\"+' '+i+' '+outputimg\n",
    "    #print(slope_code)\n",
    "    with open(sh_file, 'a') as the_file:\n",
    "        the_file.write(translate_code+\"\\n\")    "
   ]
  },
  {
   "cell_type": "markdown",
   "metadata": {},
   "source": [
    "## Slope calculation\n"
   ]
  },
  {
   "cell_type": "code",
   "execution_count": 35,
   "metadata": {},
   "outputs": [],
   "source": [
    "# Main folder of your download\n",
    "target_folder='./data/'\n",
    "# Elevation files (UTM) location\n",
    "elevation_utm_mosaic=target_folder+'elevation_utm_mosaic/'\n",
    "slope_utm_mosaic=target_folder+'slope_utm_mosaic/'\n",
    "if not os.path.isdir(slope_utm_mosaic):\n",
    "    os.mkdir(slope_utm_mosaic)\n",
    "Slope_Input_MozaikList=ListofExtensionAndName(elevation_utm_mosaic,\"tif\")\n",
    "# be careful when you declare bash file location. It should be same place as Jupyter file.\n",
    "slope_sh_file='./slope_calculate.sh'"
   ]
  },
  {
   "cell_type": "code",
   "execution_count": 43,
   "metadata": {
    "collapsed": true,
    "jupyter": {
     "outputs_hidden": true
    }
   },
   "outputs": [
    {
     "data": {
      "text/plain": [
       "'\\nFrom GDAL 1.8.0, if -compute_edges is specified, gdaldem will compute values at image edges or\\nif a nodata value is found in the 3x3 window, by interpolating missing values.\\n'"
      ]
     },
     "execution_count": 43,
     "metadata": {},
     "output_type": "execute_result"
    }
   ],
   "source": [
    "'''\n",
    "For all algorithms, except color-relief, a nodata value in the target dataset will be emitted if at least one pixel set to\n",
    "the nodata value is found in the 3x3 window centered around each source pixel. The consequence is that there will\n",
    "be a 1-pixel border around each image set with nodata value. From GDAL 1.8.0, if -compute_edges is specified,\n",
    "gdaldem will compute values at image edges or if a nodata value is found in the 3x3 window, by interpolating\n",
    "missing values.\n",
    "\n",
    "https://gis-lab.info/docs/gdal/gdal_ogr_user_docs.pdf\n",
    "'''"
   ]
  },
  {
   "cell_type": "code",
   "execution_count": 36,
   "metadata": {},
   "outputs": [],
   "source": [
    "\n",
    "# After this task, You should go to directory in command line and start job\n",
    "# with >  bash slope_calculate.sh \n",
    "for index,i in enumerate(Slope_Input_MozaikList[0],0):\n",
    "    outputimg=slope_utm_mosaic+\"/\"+Slope_Input_MozaikList[1][index]+'_Slope'\".tif\"\n",
    "    #print(outputimg)\n",
    "    slope_code= \"gdaldem slope\"+ \" \"+ i + \" \"+ outputimg + \" \"+ \"-of GTiff -b 1 -s 1.0 -compute_edges\"\n",
    "    with open(slope_sh_file, 'a') as the_file:\n",
    "        the_file.write(slope_code+\"\\n\")\n",
    "\n",
    "    "
   ]
  },
  {
   "cell_type": "markdown",
   "metadata": {},
   "source": [
    "### Export the Slope Result"
   ]
  },
  {
   "cell_type": "code",
   "execution_count": 40,
   "metadata": {},
   "outputs": [],
   "source": [
    "def ImageBoundry_for_Gdal(FilePath):     \n",
    "        from osgeo import gdal,ogr\n",
    "        ds = gdal.Open(FilePath)\n",
    "        gt = ds.GetGeoTransform()  # captures origin and pixel size\n",
    "        ULC = gdal.ApplyGeoTransform(gt, 0, 0) #Upper Left Corner\n",
    "        URC = gdal.ApplyGeoTransform(gt, ds.RasterXSize, 0) #Upper Right Corner\n",
    "        LLC = gdal.ApplyGeoTransform(gt, 0, ds.RasterYSize) #Lower Left Corner\n",
    "        LRC = gdal.ApplyGeoTransform(gt, ds.RasterXSize, ds.RasterYSize) #Lower Right Corner                   \n",
    "        ring = ogr.Geometry(ogr.wkbLinearRing)\n",
    "        ring.AddPoint_2D(ULC[0], ULC[1])\n",
    "        ring.AddPoint_2D(URC[0], URC[1])\n",
    "        ring.AddPoint_2D(LRC[0], LRC[1])\n",
    "        ring.AddPoint_2D(LLC[0], LLC[1])\n",
    "        ring.AddPoint_2D(ULC[0], ULC[1]) \n",
    "        poly=ogr.Geometry(ogr.wkbPolygon)\n",
    "        poly.AddGeometry(ring)\n",
    "        poly.ExportToJson\n",
    "        return ULC[0],ULC[1],LRC[0],LRC[1]"
   ]
  },
  {
   "cell_type": "code",
   "execution_count": 38,
   "metadata": {},
   "outputs": [],
   "source": [
    "Slope_UTM_MosaicList=ListofExtensionAndName(slope_utm_mosaic,'.tif')\n",
    "#output of slope result\n",
    "SlopeSubset=target_folder+'slope_result_4326/'\n",
    "if not os.path.isdir(SlopeSubset):\n",
    "    os.mkdir(SlopeSubset)\n",
    "# we use this folder temporarily because end of the process we delete mosaic_4326 image \n",
    "#because of hardisk issue\n",
    "slope_mosaic_4326=target_folder+'slope_mosaic_4326/'\n",
    "if not os.path.isdir(slope_mosaic_4326):\n",
    "    os.mkdir(slope_mosaic_4326)\n",
    "# Get extend of raw images\n",
    "RawImagePath=target_folder+'elevation_tif/'\n",
    "rawimg_list=ListofExtensionAndName(RawImagePath,'.tif')"
   ]
  },
  {
   "cell_type": "code",
   "execution_count": 41,
   "metadata": {},
   "outputs": [],
   "source": [
    "boundry_rawimg=[]\n",
    "for i in rawimg_list[0]:\n",
    "    boundry_raw=ImageBoundry_for_Gdal(i)\n",
    "    boundry_rawimg.append(boundry_raw)\n"
   ]
  },
  {
   "cell_type": "markdown",
   "metadata": {},
   "source": [
    "##### Cropping slope data\n",
    "\n",
    "For this task, we create only one 'for' loop. Convert slope result(UTM) to epsg:4326 and crop data according to raw data boundry"
   ]
  },
  {
   "cell_type": "code",
   "execution_count": 42,
   "metadata": {},
   "outputs": [
    {
     "name": "stdout",
     "output_type": "stream",
     "text": [
      "./data/slope_result_4326/EarthEnv-DEM90_N40W005_Slope.tif\n",
      "./data/slope_result_4326/EarthEnv-DEM90_N40W010_Slope.tif\n"
     ]
    }
   ],
   "source": [
    "#create 4326 mosaic,subset and delete\n",
    "for index,i in enumerate(Slope_UTM_MosaicList[0],0):\n",
    "\n",
    "    ImgOutPath=slope_mosaic_4326+Slope_UTM_MosaicList[1][index]+'.tif'\n",
    "    gdal.Warp(ImgOutPath, i, format = 'GTiff', dstSRS = 'EPSG:4326')\n",
    "    \n",
    "    Subset_ImgOutPath=SlopeSubset+Slope_UTM_MosaicList[1][index]+'.tif'\n",
    "    print(Subset_ImgOutPath)\n",
    "    boundry=boundry_rawimg[index]\n",
    "    \n",
    "    ds1 = gdal.Open(ImgOutPath)\n",
    "    dstDS = gdal.Warp(Subset_ImgOutPath,[ds1], format = 'GTiff',outputBounds=[boundry[0],boundry[3],boundry[2],boundry[1]],\n",
    "                      dstSRS = 'EPSG:4326',resampleAlg = gdal.GRIORA_NearestNeighbour,\n",
    "                      outputType=gdal.GDT_Float32,width = 6001,height = 6001)\n",
    "    \n",
    "    os.remove(ImgOutPath)"
   ]
  },
  {
   "cell_type": "code",
   "execution_count": null,
   "metadata": {},
   "outputs": [],
   "source": []
  },
  {
   "cell_type": "markdown",
   "metadata": {},
   "source": [
    "## Aspect Calculation\n",
    "\n",
    "We use same flowchart to calculate the aspect. Be careful defining path"
   ]
  },
  {
   "cell_type": "code",
   "execution_count": null,
   "metadata": {},
   "outputs": [],
   "source": [
    "# Main folder of your download\n",
    "target_folder='./data/'\n",
    "# Elevation files (UTM) location\n",
    "elevation_utm_mosaic=target_folder+'elevation_utm_mosaic/'\n",
    "aspect_utm_mosaic=target_folder+'aspect_utm_mosaic/'\n",
    "if not os.path.isdir(aspect_utm_mosaic):\n",
    "    os.mkdir(aspect_utm_mosaic)\n",
    "Aspect_Input_MozaikList=ListofExtensionAndName(elevation_utm_mosaic,\"tif\")\n",
    "aspect_sh_file=target_folder+'aspect_calculate.sh'"
   ]
  },
  {
   "cell_type": "code",
   "execution_count": null,
   "metadata": {},
   "outputs": [],
   "source": [
    "# After this task, You should go to directory in command line and start job\n",
    "# with >  bash aspect_calculate.sh \n",
    "for index,i in enumerate(Aspect_Input_MozaikList[0],0):\n",
    "    outputimg=aspect_utm_mosaic+Aspect_Input_MozaikList[1][index]+'_Aspect'\".tif\"\n",
    "    print(outputimg)\n",
    "    aspect_code= \"gdaldem aspect\"+ \" \"+ i + \" \"+ outputimg + \" \"+ \"-of GTiff -b 1 -zero_for_flat -compute_edges\"\n",
    "    with open(aspect_sh_file, 'a') as the_file:\n",
    "        the_file.write(aspect_code+\"\\n\")\n",
    "\n",
    "    "
   ]
  },
  {
   "cell_type": "code",
   "execution_count": null,
   "metadata": {},
   "outputs": [],
   "source": [
    "Aspect_UTM_MosaicList=ListofExtensionAndName(aspect_utm_mosaic)\n",
    "#output of aspect result\n",
    "AspectSubset=target_folder+'aspect_result_4326/'\n",
    "if not os.path.isdir(AspectSubset):\n",
    "    os.mkdir(AspectSubset)\n",
    "# we use this folder temporarily because end of the process we delete mosaic_4326 image \n",
    "#because of hardisk issue\n",
    "aspect_mosaic_4326=target_folder+'aspect_mosaic_4326/'\n",
    "if not os.path.isdir(aspect_mosaic_4326):\n",
    "    os.mkdir(aspect_mosaic_4326)\n",
    "# Get extend of raw images\n",
    "RawImagePath=target_folder+'elevation_tif/'\n",
    "rawimg_list=ListofExtensionAndName(RawImagePath,'.tif')"
   ]
  },
  {
   "cell_type": "markdown",
   "metadata": {},
   "source": [
    "#### At the same time,If you calculate slope, no need to run this code"
   ]
  },
  {
   "cell_type": "code",
   "execution_count": null,
   "metadata": {},
   "outputs": [],
   "source": [
    "boundry_rawimg=[]\n",
    "for i in rawimg_list[0]:\n",
    "    boundry_raw=ImageBoundry_for_Gdal(i)\n",
    "    boundry_rawimg.append(boundry_raw)"
   ]
  },
  {
   "cell_type": "code",
   "execution_count": null,
   "metadata": {},
   "outputs": [],
   "source": [
    "#create 4326 mosaic,subset and delete\n",
    "for index,i in enumerate(Aspect_UTM_MosaicList[0],0):\n",
    "\n",
    "    ImgOutPath=slope_mosaic_4326+Aspect_UTM_MosaicList[1][index]+'.tif'\n",
    "    gdal.Warp(ImgOutPath, i, format = 'GTiff', dstSRS = 'EPSG:4326')\n",
    "    \n",
    "    Subset_ImgOutPath=SlopeSubset+Aspect_UTM_MosaicList[1][index]+'.tif'\n",
    "    print(Subset_ImgOutPath)\n",
    "    boundry=boundry_rawimg[index]\n",
    "    \n",
    "    ds1 = gdal.Open(ImgOutPath)\n",
    "    dstDS = gdal.Warp(Subset_ImgOutPath,[ds1], format = 'GTiff',outputBounds=[boundry[0],boundry[3],boundry[2],boundry[1]],\n",
    "                      dstSRS = 'EPSG:4326',resampleAlg = gdal.GRIORA_NearestNeighbour,\n",
    "                      outputType=gdal.GDT_Float32,width = 6001,height = 6001)\n",
    "    \n",
    "    os.remove(ImgOutPath)"
   ]
  },
  {
   "cell_type": "code",
   "execution_count": null,
   "metadata": {},
   "outputs": [],
   "source": []
  }
 ],
 "metadata": {
  "kernelspec": {
   "display_name": "Python 3",
   "language": "python",
   "name": "python3"
  },
  "language_info": {
   "codemirror_mode": {
    "name": "ipython",
    "version": 3
   },
   "file_extension": ".py",
   "mimetype": "text/x-python",
   "name": "python",
   "nbconvert_exporter": "python",
   "pygments_lexer": "ipython3",
   "version": "3.6.8"
  }
 },
 "nbformat": 4,
 "nbformat_minor": 4
}
